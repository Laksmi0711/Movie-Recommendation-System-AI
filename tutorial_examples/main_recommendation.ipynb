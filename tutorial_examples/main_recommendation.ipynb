{
 "cells": [
  {
   "cell_type": "code",
   "execution_count": 1,
   "metadata": {},
   "outputs": [],
   "source": [
    "import pandas as pd\n",
    "import numpy as np\n",
    "from sklearn import model_selection, preprocessing\n",
    "import torch\n",
    "import torch.nn as nn\n",
    "import matplotlib.pyplot as plt\n",
    "from torch.utils.data import Dataset, DataLoader\n",
    "import sys"
   ]
  },
  {
   "cell_type": "code",
   "execution_count": 2,
   "metadata": {},
   "outputs": [
    {
     "name": "stdout",
     "output_type": "stream",
     "text": [
      "✅ CUDA is available. Using GPU.\n"
     ]
    }
   ],
   "source": [
    "# Device configuration\n",
    "device = torch.device('cuda' if torch.cuda.is_available() else 'cpu')\n",
    "\n",
    "if torch.cuda.is_available():\n",
    "    print(\"✅ CUDA is available. Using GPU.\")\n",
    "else:\n",
    "    print(\"⚠️ CUDA is not available. Using CPU instead.\")"
   ]
  },
  {
   "cell_type": "code",
   "execution_count": 3,
   "metadata": {},
   "outputs": [],
   "source": [
    "# # Load the MovieLens 100k dataset\n",
    "# path = \"ml-100k/\"  # Update this path to the location of your MovieLens 100k data\n",
    "\n",
    "# # Ratings\n",
    "# df = pd.read_csv(path + 'u.data', sep='\\t', header=None, encoding='latin-1')\n",
    "# df.columns = ['userId', 'movieId', 'rating', 'timestamp']\n",
    "\n",
    "#Load data\n",
    "path = \"ml-1m/\"\n",
    "\n",
    "#Ratings\n",
    "df = pd.read_csv(path+'ratings.dat', sep='::', header=None, encoding='latin-1', engine='python')\n",
    "df.columns = ['userId','movieId','rating','timestamp']\n",
    "\n"
   ]
  },
  {
   "cell_type": "code",
   "execution_count": 4,
   "metadata": {},
   "outputs": [
    {
     "data": {
      "image/png": "[encoded data removed]",
      "text/plain": [
       "<Figure size 800x600 with 1 Axes>"
      ]
     },
     "metadata": {},
     "output_type": "display_data"
    }
   ],
   "source": [
    "plt.figure(figsize=(8, 6))\n",
    "plt.hist(df.rating)\n",
    "plt.xlabel(\"Rating\")\n",
    "plt.ylabel(\"Count\")\n",
    "plt.title(\"Count of Ratings\")\n",
    "plt.show()"
   ]
  },
  {
   "cell_type": "code",
   "execution_count": 5,
   "metadata": {},
   "outputs": [],
   "source": [
    "class MovieLensDataset(Dataset):\n",
    "    \"\"\"\n",
    "    The Movie Lens Dataset class. This class prepares the dataset for training and validation.\n",
    "    \"\"\"\n",
    "    def __init__(self, users, movies, ratings):\n",
    "        \"\"\"\n",
    "        Initializes the dataset object with user, movie, and rating data.\n",
    "        \"\"\"\n",
    "        self.users = users\n",
    "        self.movies = movies\n",
    "        self.ratings = ratings\n",
    "\n",
    "    def __len__(self):\n",
    "        \"\"\"\n",
    "        Returns the total number of samples in the dataset.\n",
    "        \"\"\"\n",
    "        return len(self.users)\n",
    "\n",
    "    def __getitem__(self, item):\n",
    "        \"\"\"\n",
    "        Retrieves a sample from the dataset at the specified index.\n",
    "        \"\"\"\n",
    "        users = self.users[item]\n",
    "        movies = self.movies[item]\n",
    "        ratings = self.ratings[item]\n",
    "\n",
    "        return {\n",
    "            \"users\": torch.tensor(users, dtype=torch.long),\n",
    "            \"movies\": torch.tensor(movies, dtype=torch.long),\n",
    "            \"ratings\": torch.tensor(ratings, dtype=torch.float),\n",
    "        }"
   ]
  },
  {
   "cell_type": "code",
   "execution_count": 6,
   "metadata": {},
   "outputs": [],
   "source": [
    "class RecommendationSystemModel(nn.Module):\n",
    "    def __init__(\n",
    "        self,\n",
    "        num_users,\n",
    "        num_movies,\n",
    "        embedding_size=256,\n",
    "        hidden_dim=256,\n",
    "        dropout_rate=0.2,\n",
    "    ):\n",
    "        super(RecommendationSystemModel, self).__init__()\n",
    "        self.num_users = num_users\n",
    "        self.num_movies = num_movies\n",
    "        self.embedding_size = embedding_size\n",
    "        self.hidden_dim = hidden_dim\n",
    "\n",
    "        # Embedding layers\n",
    "        self.user_embedding = nn.Embedding(\n",
    "            num_embeddings=self.num_users, embedding_dim=self.embedding_size\n",
    "        )\n",
    "        self.movie_embedding = nn.Embedding(\n",
    "            num_embeddings=self.num_movies, embedding_dim=self.embedding_size\n",
    "        )\n",
    "\n",
    "        # Hidden layers\n",
    "        self.fc1 = nn.Linear(2 * self.embedding_size, self.hidden_dim)\n",
    "        self.fc2 = nn.Linear(self.hidden_dim, 1)\n",
    "\n",
    "        # Dropout layer\n",
    "        self.dropout = nn.Dropout(p=dropout_rate)\n",
    "\n",
    "        # Activation function\n",
    "        self.relu = nn.ReLU()\n",
    "\n",
    "    def forward(self, users, movies):\n",
    "        # Embeddings\n",
    "        user_embedded = self.user_embedding(users)\n",
    "        movie_embedded = self.movie_embedding(movies)\n",
    "\n",
    "        # Concatenate user and movie embeddings\n",
    "        combined = torch.cat([user_embedded, movie_embedded], dim=1)\n",
    "\n",
    "        # Pass through hidden layers with ReLU activation and dropout\n",
    "        x = self.relu(self.fc1(combined))\n",
    "        x = self.dropout(x)\n",
    "        output = self.fc2(x)\n",
    "\n",
    "        return output"
   ]
  },
  {
   "cell_type": "code",
   "execution_count": 7,
   "metadata": {},
   "outputs": [],
   "source": [
    "le_user = preprocessing.LabelEncoder()\n",
    "le_movie = preprocessing.LabelEncoder()\n",
    "df.userId = le_user.fit_transform(df.userId.values)\n",
    "df.movieId = le_movie.fit_transform(df.movieId.values)\n",
    "\n",
    "df_train, df_val = model_selection.train_test_split(\n",
    "    df, test_size=0.1, random_state=3, stratify=df.rating.values\n",
    ")\n",
    "\n",
    "train_dataset = MovieLensDataset(\n",
    "    users=df_train.userId.values,\n",
    "    movies=df_train.movieId.values,\n",
    "    ratings=df_train.rating.values,\n",
    ")\n",
    "\n",
    "valid_dataset = MovieLensDataset(\n",
    "    users=df_val.userId.values,\n",
    "    movies=df_val.movieId.values,\n",
    "    ratings=df_val.rating.values,\n",
    ")"
   ]
  },
  {
   "cell_type": "code",
   "execution_count": 8,
   "metadata": {},
   "outputs": [],
   "source": [
    "BATCH_SIZE = 32\n",
    "\n",
    "train_loader = DataLoader(\n",
    "    train_dataset, batch_size=BATCH_SIZE, shuffle=True\n",
    ")\n",
    "val_loader = DataLoader(\n",
    "    valid_dataset, batch_size=BATCH_SIZE, shuffle=True\n",
    ")"
   ]
  },
  {
   "cell_type": "code",
   "execution_count": 9,
   "metadata": {},
   "outputs": [],
   "source": [
    "recommendation_model = RecommendationSystemModel(\n",
    "    num_users=len(le_user.classes_),\n",
    "    num_movies=len(le_movie.classes_),\n",
    "    embedding_size=64,\n",
    "    hidden_dim=128,\n",
    "    dropout_rate=0.1,\n",
    ").to(device)\n",
    "\n",
    "optimizer = torch.optim.Adam(recommendation_model.parameters(), lr=1e-3)\n",
    "loss_func = nn.MSELoss()"
   ]
  },
  {
   "cell_type": "code",
   "execution_count": 10,
   "metadata": {},
   "outputs": [],
   "source": [
    "EPOCHS = 5\n",
    "\n",
    "\n",
    "# Function to log progress\n",
    "def log_progress(epoch, step, total_loss, log_progress_step, data_size, losses):\n",
    "    avg_loss = total_loss / log_progress_step\n",
    "    sys.stderr.write(\n",
    "        f\"\\r{epoch+1:02d}/{EPOCHS:02d} | Step: {step}/{data_size} | Avg Loss: {avg_loss:<6.9f}\"\n",
    "    )\n",
    "    sys.stderr.flush()\n",
    "    losses.append(avg_loss)"
   ]
  },
  {
   "cell_type": "code",
   "execution_count": 87,
   "metadata": {},
   "outputs": [
    {
     "name": "stdout",
     "output_type": "stream",
     "text": [
      "Training on 900188 samples...\n"
     ]
    },
    {
     "name": "stderr",
     "output_type": "stream",
     "text": [
      "01/05 | Step: 900188/900188 | Avg Loss: 0.044162108"
     ]
    },
    {
     "name": "stdout",
     "output_type": "stream",
     "text": [
      "Epoch 1/5, Average Loss: 0.0246\n"
     ]
    },
    {
     "name": "stderr",
     "output_type": "stream",
     "text": [
      "02/05 | Step: 900188/900188 | Avg Loss: 0.052613610"
     ]
    },
    {
     "name": "stdout",
     "output_type": "stream",
     "text": [
      "Epoch 2/5, Average Loss: 0.0240\n"
     ]
    },
    {
     "name": "stderr",
     "output_type": "stream",
     "text": [
      "03/05 | Step: 900188/900188 | Avg Loss: 0.051683721"
     ]
    },
    {
     "name": "stdout",
     "output_type": "stream",
     "text": [
      "Epoch 3/5, Average Loss: 0.0235\n"
     ]
    },
    {
     "name": "stderr",
     "output_type": "stream",
     "text": [
      "05/05 | Step: 800/900188 | Avg Loss: 0.174010237903"
     ]
    },
    {
     "name": "stdout",
     "output_type": "stream",
     "text": [
      "Epoch 4/5, Average Loss: 0.0231\n"
     ]
    },
    {
     "name": "stderr",
     "output_type": "stream",
     "text": [
      "05/05 | Step: 900188/900188 | Avg Loss: 0.043027021"
     ]
    },
    {
     "name": "stdout",
     "output_type": "stream",
     "text": [
      "Epoch 5/5, Average Loss: 0.0226\n"
     ]
    }
   ],
   "source": [
    "total_loss = 0\n",
    "log_progress_step = 100\n",
    "losses = []\n",
    "train_dataset_size = len(train_dataset)\n",
    "print(f\"Training on {train_dataset_size} samples...\")\n",
    "\n",
    "recommendation_model.train()\n",
    "for e in range(EPOCHS):\n",
    "    epoch_loss = 0  # To accumulate the total loss for the epoch\n",
    "    step_count = 0  # Reset step count at the beginning of each epoch\n",
    "    \n",
    "    for i, train_data in enumerate(train_loader):\n",
    "        output = recommendation_model(\n",
    "            train_data[\"users\"].to(device), train_data[\"movies\"].to(device)\n",
    "        )\n",
    "        # Reshape the model output to match the target's shape\n",
    "        output = output.squeeze()  # Removes the singleton dimension\n",
    "        ratings = (\n",
    "            train_data[\"ratings\"].to(torch.float32).to(device)\n",
    "        )  # Assuming ratings is already 1D\n",
    "\n",
    "        loss = loss_func(output, ratings)\n",
    "        batch_loss = loss.sum().item()\n",
    "        total_loss += batch_loss\n",
    "        epoch_loss += batch_loss  # Add to epoch's total loss\n",
    "        optimizer.zero_grad()\n",
    "        loss.backward()\n",
    "        optimizer.step()\n",
    "\n",
    "        # Increment step count by the actual size of the batch\n",
    "        step_count += len(train_data[\"users\"])\n",
    "\n",
    "        # Check if it's time to log progress\n",
    "        if (\n",
    "            step_count % log_progress_step == 0 or i == len(train_loader) - 1\n",
    "        ):  # Log at the end of each epoch\n",
    "            log_progress(\n",
    "                e, step_count, total_loss, log_progress_step, train_dataset_size, losses\n",
    "            )\n",
    "            total_loss = 0\n",
    "\n",
    "    # Calculate and print the average loss for the epoch\n",
    "    avg_loss = epoch_loss / len(train_loader.dataset)\n",
    "    print(f\"Epoch {e + 1}/{EPOCHS}, Average Loss: {avg_loss:.4f}\")\n",
    "    losses.append(avg_loss)  # Store the average loss for this epoch\n"
   ]
  },
  {
   "cell_type": "code",
   "execution_count": 88,
   "metadata": {},
   "outputs": [
    {
     "data": {
      "image/png": "[encoded data removed]",
      "text/plain": [
       "<Figure size 640x480 with 1 Axes>"
      ]
     },
     "metadata": {},
     "output_type": "display_data"
    }
   ],
   "source": [
    "plt.figure()\n",
    "plt.plot(losses)\n",
    "plt.xlabel(\"Steps\")\n",
    "plt.ylabel(\"Avg Loss\")\n",
    "plt.show()"
   ]
  },
  {
   "cell_type": "code",
   "execution_count": 89,
   "metadata": {},
   "outputs": [
    {
     "name": "stdout",
     "output_type": "stream",
     "text": [
      "RMSE: 0.8894\n"
     ]
    }
   ],
   "source": [
    "from sklearn.metrics import mean_squared_error\n",
    "\n",
    "y_pred = []\n",
    "y_true = []\n",
    "\n",
    "recommendation_model.eval()\n",
    "\n",
    "with torch.no_grad():\n",
    "    for i, valid_data in enumerate(val_loader):\n",
    "        output = recommendation_model(\n",
    "            valid_data[\"users\"].to(device), valid_data[\"movies\"].to(device)\n",
    "        )\n",
    "        ratings = valid_data[\"ratings\"].to(device)\n",
    "        y_pred.extend(output.cpu().numpy())\n",
    "        y_true.extend(ratings.cpu().numpy())\n",
    "\n",
    "# Calculate RMSE\n",
    "rms = mean_squared_error(y_true, y_pred, squared=False)\n",
    "print(f\"RMSE: {rms:.4f}\")"
   ]
  },
  {
   "cell_type": "code",
   "execution_count": 90,
   "metadata": {},
   "outputs": [],
   "source": [
    "from collections import defaultdict\n",
    "\n",
    "\n",
    "def calculate_precision_recall(user_ratings, k, threshold):\n",
    "    user_ratings.sort(key=lambda x: x[0], reverse=True)\n",
    "    n_rel = sum(true_r >= threshold for _, true_r in user_ratings)\n",
    "    n_rec_k = sum(est >= threshold for est, _ in user_ratings[:k])\n",
    "    n_rel_and_rec_k = sum(\n",
    "        (true_r >= threshold) and (est >= threshold) for est, true_r in user_ratings[:k]\n",
    "    )\n",
    "\n",
    "    precision = n_rel_and_rec_k / n_rec_k if n_rec_k != 0 else 1\n",
    "    recall = n_rel_and_rec_k / n_rel if n_rel != 0 else 1\n",
    "    return precision, recall\n",
    "\n",
    "\n",
    "user_ratings_comparison = defaultdict(list)\n",
    "\n",
    "with torch.no_grad():\n",
    "    for valid_data in val_loader:\n",
    "        users = valid_data[\"users\"].to(device)\n",
    "        movies = valid_data[\"movies\"].to(device)\n",
    "        ratings = valid_data[\"ratings\"].to(device)\n",
    "        output = recommendation_model(users, movies)\n",
    "\n",
    "        for user, pred, true in zip(users, output, ratings):\n",
    "            user_ratings_comparison[user.item()].append((pred[0].item(), true.item()))\n",
    "\n",
    "user_precisions = dict()\n",
    "user_based_recalls = dict()\n",
    "\n",
    "k = 50\n",
    "threshold = 3\n",
    "\n",
    "for user_id, user_ratings in user_ratings_comparison.items():\n",
    "    precision, recall = calculate_precision_recall(user_ratings, k, threshold)\n",
    "    user_precisions[user_id] = precision\n",
    "    user_based_recalls[user_id] = recall"
   ]
  },
  {
   "cell_type": "code",
   "execution_count": 15,
   "metadata": {},
   "outputs": [
    {
     "name": "stdout",
     "output_type": "stream",
     "text": [
      "precision @ 50: 0.9074\n",
      "recall @ 50: 0.8997\n"
     ]
    }
   ],
   "source": [
    "average_precision = sum(prec for prec in user_precisions.values()) / len(\n",
    "    user_precisions\n",
    ")\n",
    "average_recall = sum(rec for rec in user_based_recalls.values()) / len(\n",
    "    user_based_recalls\n",
    ")\n",
    "\n",
    "print(f\"precision @ {k}: {average_precision:.4f}\")\n",
    "print(f\"recall @ {k}: {average_recall:.4f}\")"
   ]
  },
  {
   "cell_type": "code",
   "execution_count": 60,
   "metadata": {},
   "outputs": [],
   "source": [
    "def recommend_top_movies(model, user_id, all_movies, seen_movies, device, k=10, batch_size=100):\n",
    "    model.eval()\n",
    "    unseen_movies = [m for m in all_movies if m not in seen_movies]\n",
    "    predictions = []\n",
    "\n",
    "    # Predict ratings for unseen movies\n",
    "    with torch.no_grad():\n",
    "        for i in range(0, len(unseen_movies), batch_size):\n",
    "            batch_unseen_movies = unseen_movies[i:i+batch_size]\n",
    "            user_tensor = torch.tensor([user_id] * len(batch_unseen_movies)).to(device)\n",
    "            movie_tensor = torch.tensor(batch_unseen_movies).to(device)\n",
    "            predicted_ratings = model(user_tensor, movie_tensor).view(-1).tolist()\n",
    "            predictions.extend(zip(batch_unseen_movies, predicted_ratings))\n",
    "\n",
    "    predictions.sort(key=lambda x: x[1], reverse=True)\n",
    "    \n",
    "    # Get the top k movies with their predicted ratings\n",
    "    top_k_movies_with_ratings = [(movie_id, rating) for movie_id, rating in predictions[:k]]\n",
    "    \n",
    "    return top_k_movies_with_ratings\n",
    "\n",
    "def get_movies_with_genres(movie_ids, df_movies):\n",
    "    # Select the relevant movies and create a new DataFrame\n",
    "    movies_with_genres = df_movies[df_movies['movieId'].isin(movie_ids)].copy()\n",
    "    \n",
    "    # Ensure genres are in the right format and concatenate movie titles with their genres\n",
    "    movies_with_genres['title_with_genres'] = movies_with_genres.apply(\n",
    "        lambda row: f\"{row['title']} - {' / '.join(str(genre) for genre in row['genres'].split('|'))}\", axis=1\n",
    "    )\n",
    "    \n",
    "    return movies_with_genres['title_with_genres'].tolist()\n",
    "\n",
    "def get_seen_movies_with_ratings(user_id, df):\n",
    "    # Filter movies that the user has seen and get their ratings\n",
    "    user_seen_movies = df[df['userId'] == user_id][['movieId', 'rating']]\n",
    "    return user_seen_movies\n"
   ]
  },
  {
   "cell_type": "code",
   "execution_count": 61,
   "metadata": {},
   "outputs": [],
   "source": [
    "\n",
    "\n",
    "#Movies\n",
    "df_movies = pd.read_csv(path+'movies.dat', sep='::', header=None, encoding='latin-1', engine='python')\n",
    "df_movies.columns = ['movieId','title','genres']\n",
    "\n",
    "# Handle potential NaN values in the 'genres' column\n",
    "df_movies['genres'] = df_movies['genres'].fillna('')  # Replace NaN values with an empty string\n",
    "\n",
    "# Split the genres properly\n",
    "df_movies['genres'] = df_movies['genres'].apply(lambda x: x.split('|') if isinstance(x, str) else [])\n",
    "\n"
   ]
  },
  {
   "cell_type": "code",
   "execution_count": 62,
   "metadata": {},
   "outputs": [
    {
     "data": {
      "text/html": [
       "<div>\n",
       "<style scoped>\n",
       "    .dataframe tbody tr th:only-of-type {\n",
       "        vertical-align: middle;\n",
       "    }\n",
       "\n",
       "    .dataframe tbody tr th {\n",
       "        vertical-align: top;\n",
       "    }\n",
       "\n",
       "    .dataframe thead th {\n",
       "        text-align: right;\n",
       "    }\n",
       "</style>\n",
       "<table border=\"1\" class=\"dataframe\">\n",
       "  <thead>\n",
       "    <tr style=\"text-align: right;\">\n",
       "      <th></th>\n",
       "      <th>movieId</th>\n",
       "      <th>title</th>\n",
       "      <th>genres</th>\n",
       "    </tr>\n",
       "  </thead>\n",
       "  <tbody>\n",
       "    <tr>\n",
       "      <th>0</th>\n",
       "      <td>1</td>\n",
       "      <td>Toy Story (1995)</td>\n",
       "      <td>[Animation, Children's, Comedy]</td>\n",
       "    </tr>\n",
       "    <tr>\n",
       "      <th>1</th>\n",
       "      <td>2</td>\n",
       "      <td>Jumanji (1995)</td>\n",
       "      <td>[Adventure, Children's, Fantasy]</td>\n",
       "    </tr>\n",
       "    <tr>\n",
       "      <th>2</th>\n",
       "      <td>3</td>\n",
       "      <td>Grumpier Old Men (1995)</td>\n",
       "      <td>[Comedy, Romance]</td>\n",
       "    </tr>\n",
       "    <tr>\n",
       "      <th>3</th>\n",
       "      <td>4</td>\n",
       "      <td>Waiting to Exhale (1995)</td>\n",
       "      <td>[Comedy, Drama]</td>\n",
       "    </tr>\n",
       "    <tr>\n",
       "      <th>4</th>\n",
       "      <td>5</td>\n",
       "      <td>Father of the Bride Part II (1995)</td>\n",
       "      <td>[Comedy]</td>\n",
       "    </tr>\n",
       "    <tr>\n",
       "      <th>...</th>\n",
       "      <td>...</td>\n",
       "      <td>...</td>\n",
       "      <td>...</td>\n",
       "    </tr>\n",
       "    <tr>\n",
       "      <th>3878</th>\n",
       "      <td>3948</td>\n",
       "      <td>Meet the Parents (2000)</td>\n",
       "      <td>[Comedy]</td>\n",
       "    </tr>\n",
       "    <tr>\n",
       "      <th>3879</th>\n",
       "      <td>3949</td>\n",
       "      <td>Requiem for a Dream (2000)</td>\n",
       "      <td>[Drama]</td>\n",
       "    </tr>\n",
       "    <tr>\n",
       "      <th>3880</th>\n",
       "      <td>3950</td>\n",
       "      <td>Tigerland (2000)</td>\n",
       "      <td>[Drama]</td>\n",
       "    </tr>\n",
       "    <tr>\n",
       "      <th>3881</th>\n",
       "      <td>3951</td>\n",
       "      <td>Two Family House (2000)</td>\n",
       "      <td>[Drama]</td>\n",
       "    </tr>\n",
       "    <tr>\n",
       "      <th>3882</th>\n",
       "      <td>3952</td>\n",
       "      <td>Contender, The (2000)</td>\n",
       "      <td>[Drama, Thriller]</td>\n",
       "    </tr>\n",
       "  </tbody>\n",
       "</table>\n",
       "<p>3883 rows × 3 columns</p>\n",
       "</div>"
      ],
      "text/plain": [
       "      movieId                               title  \\\n",
       "0           1                    Toy Story (1995)   \n",
       "1           2                      Jumanji (1995)   \n",
       "2           3             Grumpier Old Men (1995)   \n",
       "3           4            Waiting to Exhale (1995)   \n",
       "4           5  Father of the Bride Part II (1995)   \n",
       "...       ...                                 ...   \n",
       "3878     3948             Meet the Parents (2000)   \n",
       "3879     3949          Requiem for a Dream (2000)   \n",
       "3880     3950                    Tigerland (2000)   \n",
       "3881     3951             Two Family House (2000)   \n",
       "3882     3952               Contender, The (2000)   \n",
       "\n",
       "                                genres  \n",
       "0      [Animation, Children's, Comedy]  \n",
       "1     [Adventure, Children's, Fantasy]  \n",
       "2                    [Comedy, Romance]  \n",
       "3                      [Comedy, Drama]  \n",
       "4                             [Comedy]  \n",
       "...                                ...  \n",
       "3878                          [Comedy]  \n",
       "3879                           [Drama]  \n",
       "3880                           [Drama]  \n",
       "3881                           [Drama]  \n",
       "3882                 [Drama, Thriller]  \n",
       "\n",
       "[3883 rows x 3 columns]"
      ]
     },
     "execution_count": 62,
     "metadata": {},
     "output_type": "execute_result"
    }
   ],
   "source": [
    "df_movies"
   ]
  },
  {
   "cell_type": "code",
   "execution_count": 63,
   "metadata": {},
   "outputs": [],
   "source": [
    "# Prepare all_movies and seen_movies\n",
    "all_movies = df['movieId'].unique().tolist()\n"
   ]
  },
  {
   "cell_type": "code",
   "execution_count": 94,
   "metadata": {},
   "outputs": [],
   "source": [
    "user_id = 5258  # A random userId\n",
    "seen_movies = set(df[df['userId'] == user_id]['movieId'].tolist())"
   ]
  },
  {
   "cell_type": "code",
   "execution_count": 93,
   "metadata": {},
   "outputs": [
    {
     "data": {
      "text/plain": [
       "34"
      ]
     },
     "execution_count": 93,
     "metadata": {},
     "output_type": "execute_result"
    }
   ],
   "source": [
    "len(seen_movies)"
   ]
  },
  {
   "cell_type": "code",
   "execution_count": 95,
   "metadata": {},
   "outputs": [],
   "source": [
    "# Get recommendations\n",
    "recommendations = recommend_top_movies(\n",
    "    recommendation_model, user_id, all_movies, seen_movies, device\n",
    ")"
   ]
  },
  {
   "cell_type": "code",
   "execution_count": 96,
   "metadata": {},
   "outputs": [
    {
     "data": {
      "text/plain": [
       "[(1066, 5.2048139572143555),\n",
       " (1839, 5.02632474899292),\n",
       " (2005, 5.0041890144348145),\n",
       " (2809, 4.994767189025879),\n",
       " (2021, 4.953431606292725),\n",
       " (1162, 4.9197096824646),\n",
       " (1170, 4.9126176834106445),\n",
       " (1175, 4.88335657119751),\n",
       " (2167, 4.8801350593566895),\n",
       " (1129, 4.867081642150879)]"
      ]
     },
     "execution_count": 96,
     "metadata": {},
     "output_type": "execute_result"
    }
   ],
   "source": [
    "recommendations"
   ]
  },
  {
   "cell_type": "code",
   "execution_count": 97,
   "metadata": {},
   "outputs": [],
   "source": [
    "# Extract only the movie IDs from the recommendations (ignore the ratings)\n",
    "recommended_movie_ids = [movie_id for movie_id, _ in recommendations]\n",
    "predicted_ratings = [rating for _, rating in recommendations]\n"
   ]
  },
  {
   "cell_type": "code",
   "execution_count": 98,
   "metadata": {},
   "outputs": [
    {
     "data": {
      "text/plain": [
       "[1066, 1839, 2005, 2809, 2021, 1162, 1170, 1175, 2167, 1129]"
      ]
     },
     "execution_count": 98,
     "metadata": {},
     "output_type": "execute_result"
    }
   ],
   "source": [
    "recommended_movie_ids"
   ]
  },
  {
   "cell_type": "code",
   "execution_count": 99,
   "metadata": {},
   "outputs": [
    {
     "name": "stderr",
     "output_type": "stream",
     "text": [
      "C:\\Users\\bryan\\AppData\\Local\\Temp\\ipykernel_16380\\3874772953.py:5: SettingWithCopyWarning: \n",
      "A value is trying to be set on a copy of a slice from a DataFrame.\n",
      "Try using .loc[row_indexer,col_indexer] = value instead\n",
      "\n",
      "See the caveats in the documentation: https://pandas.pydata.org/pandas-docs/stable/user_guide/indexing.html#returning-a-view-versus-a-copy\n",
      "  recommended_movies['predicted_rating'] = recommended_movies['movieId'].map(\n"
     ]
    },
    {
     "data": {
      "text/html": [
       "<div>\n",
       "<style scoped>\n",
       "    .dataframe tbody tr th:only-of-type {\n",
       "        vertical-align: middle;\n",
       "    }\n",
       "\n",
       "    .dataframe tbody tr th {\n",
       "        vertical-align: top;\n",
       "    }\n",
       "\n",
       "    .dataframe thead th {\n",
       "        text-align: right;\n",
       "    }\n",
       "</style>\n",
       "<table border=\"1\" class=\"dataframe\">\n",
       "  <thead>\n",
       "    <tr style=\"text-align: right;\">\n",
       "      <th></th>\n",
       "      <th>movieId</th>\n",
       "      <th>title</th>\n",
       "      <th>genres</th>\n",
       "      <th>predicted_rating</th>\n",
       "    </tr>\n",
       "  </thead>\n",
       "  <tbody>\n",
       "    <tr>\n",
       "      <th>1052</th>\n",
       "      <td>1066</td>\n",
       "      <td>Shall We Dance? (1937)</td>\n",
       "      <td>[Comedy, Musical, Romance]</td>\n",
       "      <td>5.204814</td>\n",
       "    </tr>\n",
       "    <tr>\n",
       "      <th>1113</th>\n",
       "      <td>1129</td>\n",
       "      <td>Escape from New York (1981)</td>\n",
       "      <td>[Action, Adventure, Sci-Fi, Thriller]</td>\n",
       "      <td>4.867082</td>\n",
       "    </tr>\n",
       "    <tr>\n",
       "      <th>1146</th>\n",
       "      <td>1162</td>\n",
       "      <td>Ruling Class, The (1972)</td>\n",
       "      <td>[Comedy]</td>\n",
       "      <td>4.919710</td>\n",
       "    </tr>\n",
       "    <tr>\n",
       "      <th>1154</th>\n",
       "      <td>1170</td>\n",
       "      <td>Best of the Best 3: No Turning Back (1995)</td>\n",
       "      <td>[Action]</td>\n",
       "      <td>4.912618</td>\n",
       "    </tr>\n",
       "    <tr>\n",
       "      <th>1159</th>\n",
       "      <td>1175</td>\n",
       "      <td>Delicatessen (1991)</td>\n",
       "      <td>[Comedy, Sci-Fi]</td>\n",
       "      <td>4.883357</td>\n",
       "    </tr>\n",
       "    <tr>\n",
       "      <th>1770</th>\n",
       "      <td>1839</td>\n",
       "      <td>My Giant (1998)</td>\n",
       "      <td>[Comedy]</td>\n",
       "      <td>5.026325</td>\n",
       "    </tr>\n",
       "    <tr>\n",
       "      <th>1936</th>\n",
       "      <td>2005</td>\n",
       "      <td>Goonies, The (1985)</td>\n",
       "      <td>[Adventure, Children's, Fantasy]</td>\n",
       "      <td>5.004189</td>\n",
       "    </tr>\n",
       "    <tr>\n",
       "      <th>1952</th>\n",
       "      <td>2021</td>\n",
       "      <td>Dune (1984)</td>\n",
       "      <td>[Fantasy, Sci-Fi]</td>\n",
       "      <td>4.953432</td>\n",
       "    </tr>\n",
       "    <tr>\n",
       "      <th>2098</th>\n",
       "      <td>2167</td>\n",
       "      <td>Blade (1998)</td>\n",
       "      <td>[Action, Adventure, Horror]</td>\n",
       "      <td>4.880135</td>\n",
       "    </tr>\n",
       "    <tr>\n",
       "      <th>2740</th>\n",
       "      <td>2809</td>\n",
       "      <td>Love Stinks (1999)</td>\n",
       "      <td>[Comedy]</td>\n",
       "      <td>4.994767</td>\n",
       "    </tr>\n",
       "  </tbody>\n",
       "</table>\n",
       "</div>"
      ],
      "text/plain": [
       "      movieId                                       title  \\\n",
       "1052     1066                      Shall We Dance? (1937)   \n",
       "1113     1129                 Escape from New York (1981)   \n",
       "1146     1162                    Ruling Class, The (1972)   \n",
       "1154     1170  Best of the Best 3: No Turning Back (1995)   \n",
       "1159     1175                         Delicatessen (1991)   \n",
       "1770     1839                             My Giant (1998)   \n",
       "1936     2005                         Goonies, The (1985)   \n",
       "1952     2021                                 Dune (1984)   \n",
       "2098     2167                                Blade (1998)   \n",
       "2740     2809                          Love Stinks (1999)   \n",
       "\n",
       "                                     genres  predicted_rating  \n",
       "1052             [Comedy, Musical, Romance]          5.204814  \n",
       "1113  [Action, Adventure, Sci-Fi, Thriller]          4.867082  \n",
       "1146                               [Comedy]          4.919710  \n",
       "1154                               [Action]          4.912618  \n",
       "1159                       [Comedy, Sci-Fi]          4.883357  \n",
       "1770                               [Comedy]          5.026325  \n",
       "1936       [Adventure, Children's, Fantasy]          5.004189  \n",
       "1952                      [Fantasy, Sci-Fi]          4.953432  \n",
       "2098            [Action, Adventure, Horror]          4.880135  \n",
       "2740                               [Comedy]          4.994767  "
      ]
     },
     "execution_count": 99,
     "metadata": {},
     "output_type": "execute_result"
    }
   ],
   "source": [
    "# Get the rows for the recommended movie IDs\n",
    "recommended_movies = df_movies[df_movies['movieId'].isin(recommended_movie_ids)]\n",
    "\n",
    "# Merge the predicted ratings into the DataFrame\n",
    "recommended_movies['predicted_rating'] = recommended_movies['movieId'].map(\n",
    "    dict(zip(recommended_movie_ids, predicted_ratings))\n",
    ")\n",
    "\n",
    "# Select the relevant columns (title and genres)\n",
    "recommended_movies_info = recommended_movies[['movieId', 'title', 'genres', 'predicted_rating']]\n",
    "\n",
    "# Display the result\n",
    "recommended_movies_info"
   ]
  },
  {
   "cell_type": "code",
   "execution_count": 100,
   "metadata": {},
   "outputs": [
    {
     "data": {
      "text/html": [
       "<div>\n",
       "<style scoped>\n",
       "    .dataframe tbody tr th:only-of-type {\n",
       "        vertical-align: middle;\n",
       "    }\n",
       "\n",
       "    .dataframe tbody tr th {\n",
       "        vertical-align: top;\n",
       "    }\n",
       "\n",
       "    .dataframe thead th {\n",
       "        text-align: right;\n",
       "    }\n",
       "</style>\n",
       "<table border=\"1\" class=\"dataframe\">\n",
       "  <thead>\n",
       "    <tr style=\"text-align: right;\">\n",
       "      <th></th>\n",
       "      <th>movieId</th>\n",
       "      <th>title</th>\n",
       "      <th>genres</th>\n",
       "      <th>rating</th>\n",
       "    </tr>\n",
       "  </thead>\n",
       "  <tbody>\n",
       "    <tr>\n",
       "      <th>0</th>\n",
       "      <td>35</td>\n",
       "      <td>Carrington (1995)</td>\n",
       "      <td>[Drama, Romance]</td>\n",
       "      <td>5</td>\n",
       "    </tr>\n",
       "    <tr>\n",
       "      <th>1</th>\n",
       "      <td>1154</td>\n",
       "      <td>T-Men (1947)</td>\n",
       "      <td>[Film-Noir]</td>\n",
       "      <td>5</td>\n",
       "    </tr>\n",
       "    <tr>\n",
       "      <th>2</th>\n",
       "      <td>1117</td>\n",
       "      <td>Eighth Day, The (Le Huitième jour ) (1996)</td>\n",
       "      <td>[Drama]</td>\n",
       "      <td>5</td>\n",
       "    </tr>\n",
       "    <tr>\n",
       "      <th>3</th>\n",
       "      <td>1131</td>\n",
       "      <td>Jean de Florette (1986)</td>\n",
       "      <td>[Drama]</td>\n",
       "      <td>5</td>\n",
       "    </tr>\n",
       "    <tr>\n",
       "      <th>4</th>\n",
       "      <td>1772</td>\n",
       "      <td>Blues Brothers 2000 (1998)</td>\n",
       "      <td>[Action, Comedy, Musical]</td>\n",
       "      <td>5</td>\n",
       "    </tr>\n",
       "    <tr>\n",
       "      <th>5</th>\n",
       "      <td>1765</td>\n",
       "      <td>Letter From Death Row, A (1998)</td>\n",
       "      <td>[Crime, Drama]</td>\n",
       "      <td>5</td>\n",
       "    </tr>\n",
       "    <tr>\n",
       "      <th>6</th>\n",
       "      <td>309</td>\n",
       "      <td>Red Firecracker, Green Firecracker (1994)</td>\n",
       "      <td>[Drama]</td>\n",
       "      <td>5</td>\n",
       "    </tr>\n",
       "    <tr>\n",
       "      <th>7</th>\n",
       "      <td>2651</td>\n",
       "      <td>Frankenstein Meets the Wolf Man (1943)</td>\n",
       "      <td>[Horror]</td>\n",
       "      <td>5</td>\n",
       "    </tr>\n",
       "    <tr>\n",
       "      <th>8</th>\n",
       "      <td>3223</td>\n",
       "      <td>Zed &amp; Two Noughts, A (1985)</td>\n",
       "      <td>[Drama]</td>\n",
       "      <td>5</td>\n",
       "    </tr>\n",
       "    <tr>\n",
       "      <th>9</th>\n",
       "      <td>1155</td>\n",
       "      <td>Invitation, The (Zaproszenie) (1986)</td>\n",
       "      <td>[Drama]</td>\n",
       "      <td>5</td>\n",
       "    </tr>\n",
       "    <tr>\n",
       "      <th>10</th>\n",
       "      <td>862</td>\n",
       "      <td>Manny &amp; Lo (1996)</td>\n",
       "      <td>[Drama]</td>\n",
       "      <td>5</td>\n",
       "    </tr>\n",
       "    <tr>\n",
       "      <th>11</th>\n",
       "      <td>858</td>\n",
       "      <td>Godfather, The (1972)</td>\n",
       "      <td>[Action, Crime, Drama]</td>\n",
       "      <td>5</td>\n",
       "    </tr>\n",
       "    <tr>\n",
       "      <th>12</th>\n",
       "      <td>851</td>\n",
       "      <td>Basquiat (1996)</td>\n",
       "      <td>[Drama]</td>\n",
       "      <td>5</td>\n",
       "    </tr>\n",
       "    <tr>\n",
       "      <th>13</th>\n",
       "      <td>802</td>\n",
       "      <td>Phenomenon (1996)</td>\n",
       "      <td>[Drama, Romance]</td>\n",
       "      <td>5</td>\n",
       "    </tr>\n",
       "    <tr>\n",
       "      <th>14</th>\n",
       "      <td>107</td>\n",
       "      <td>Muppet Treasure Island (1996)</td>\n",
       "      <td>[Adventure, Children's, Comedy, Musical]</td>\n",
       "      <td>5</td>\n",
       "    </tr>\n",
       "    <tr>\n",
       "      <th>15</th>\n",
       "      <td>579</td>\n",
       "      <td>Scorta, La (1993)</td>\n",
       "      <td>[Thriller]</td>\n",
       "      <td>5</td>\n",
       "    </tr>\n",
       "    <tr>\n",
       "      <th>16</th>\n",
       "      <td>1113</td>\n",
       "      <td>Associate, The (1996)</td>\n",
       "      <td>[Comedy]</td>\n",
       "      <td>4</td>\n",
       "    </tr>\n",
       "    <tr>\n",
       "      <th>17</th>\n",
       "      <td>1142</td>\n",
       "      <td>Get Over It (1996)</td>\n",
       "      <td>[Drama]</td>\n",
       "      <td>4</td>\n",
       "    </tr>\n",
       "    <tr>\n",
       "      <th>18</th>\n",
       "      <td>2794</td>\n",
       "      <td>European Vacation (1985)</td>\n",
       "      <td>[Comedy]</td>\n",
       "      <td>4</td>\n",
       "    </tr>\n",
       "    <tr>\n",
       "      <th>19</th>\n",
       "      <td>28</td>\n",
       "      <td>Persuasion (1995)</td>\n",
       "      <td>[Romance]</td>\n",
       "      <td>4</td>\n",
       "    </tr>\n",
       "  </tbody>\n",
       "</table>\n",
       "</div>"
      ],
      "text/plain": [
       "    movieId                                       title  \\\n",
       "0        35                           Carrington (1995)   \n",
       "1      1154                                T-Men (1947)   \n",
       "2      1117  Eighth Day, The (Le Huitième jour ) (1996)   \n",
       "3      1131                     Jean de Florette (1986)   \n",
       "4      1772                  Blues Brothers 2000 (1998)   \n",
       "5      1765             Letter From Death Row, A (1998)   \n",
       "6       309   Red Firecracker, Green Firecracker (1994)   \n",
       "7      2651      Frankenstein Meets the Wolf Man (1943)   \n",
       "8      3223                 Zed & Two Noughts, A (1985)   \n",
       "9      1155        Invitation, The (Zaproszenie) (1986)   \n",
       "10      862                           Manny & Lo (1996)   \n",
       "11      858                       Godfather, The (1972)   \n",
       "12      851                             Basquiat (1996)   \n",
       "13      802                           Phenomenon (1996)   \n",
       "14      107               Muppet Treasure Island (1996)   \n",
       "15      579                           Scorta, La (1993)   \n",
       "16     1113                       Associate, The (1996)   \n",
       "17     1142                          Get Over It (1996)   \n",
       "18     2794                    European Vacation (1985)   \n",
       "19       28                           Persuasion (1995)   \n",
       "\n",
       "                                      genres  rating  \n",
       "0                           [Drama, Romance]       5  \n",
       "1                                [Film-Noir]       5  \n",
       "2                                    [Drama]       5  \n",
       "3                                    [Drama]       5  \n",
       "4                  [Action, Comedy, Musical]       5  \n",
       "5                             [Crime, Drama]       5  \n",
       "6                                    [Drama]       5  \n",
       "7                                   [Horror]       5  \n",
       "8                                    [Drama]       5  \n",
       "9                                    [Drama]       5  \n",
       "10                                   [Drama]       5  \n",
       "11                    [Action, Crime, Drama]       5  \n",
       "12                                   [Drama]       5  \n",
       "13                          [Drama, Romance]       5  \n",
       "14  [Adventure, Children's, Comedy, Musical]       5  \n",
       "15                                [Thriller]       5  \n",
       "16                                  [Comedy]       4  \n",
       "17                                   [Drama]       4  \n",
       "18                                  [Comedy]       4  \n",
       "19                                 [Romance]       4  "
      ]
     },
     "execution_count": 100,
     "metadata": {},
     "output_type": "execute_result"
    }
   ],
   "source": [
    "# Get all of the user's seen movies and sort by rating\n",
    "seen_movies_df = df[df['userId'] == user_id].sort_values(by=\"rating\", ascending=False)\n",
    "\n",
    "# Merge with movie titles and genres from df_movies\n",
    "seen_movies_info = pd.merge(seen_movies_df[['movieId', 'rating']], df_movies[['movieId', 'title', 'genres']], on='movieId')\n",
    "\n",
    "# Create the final DataFrame with relevant columns for seen movies\n",
    "seen_movies_info = pd.DataFrame({\n",
    "    'movieId': seen_movies_info['movieId'],\n",
    "    'title': seen_movies_info['title'],\n",
    "    'genres': seen_movies_info['genres'],\n",
    "    'rating': seen_movies_info['rating']\n",
    "})\n",
    "\n",
    "# Display the seen movies DataFrame\n",
    "seen_movies_info.head(20)"
   ]
  }
 ],
 "metadata": {
  "kernelspec": {
   "display_name": "Python 3",
   "language": "python",
   "name": "python3"
  },
  "language_info": {
   "codemirror_mode": {
    "name": "ipython",
    "version": 3
   },
   "file_extension": ".py",
   "mimetype": "text/x-python",
   "name": "python",
   "nbconvert_exporter": "python",
   "pygments_lexer": "ipython3",
   "version": "3.9.13"
  }
 },
 "nbformat": 4,
 "nbformat_minor": 2
}
